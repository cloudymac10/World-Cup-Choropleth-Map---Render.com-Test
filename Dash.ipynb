{
 "cells": [
  {
   "cell_type": "code",
   "execution_count": 3,
   "metadata": {},
   "outputs": [],
   "source": [
    "# Import packages\n",
    "import pandas as pd\n",
    "import dash\n",
    "from dash import dcc, html\n",
    "import plotly.express as px\n",
    "from dash.dependencies import Input, Output"
   ]
  },
  {
   "cell_type": "code",
   "execution_count": 21,
   "metadata": {},
   "outputs": [
    {
     "data": {
      "text/html": [
       "\n",
       "        <iframe\n",
       "            width=\"100%\"\n",
       "            height=\"650\"\n",
       "            src=\"http://127.0.0.1:8050/\"\n",
       "            frameborder=\"0\"\n",
       "            allowfullscreen\n",
       "            \n",
       "        ></iframe>\n",
       "        "
      ],
      "text/plain": [
       "<IPython.lib.display.IFrame at 0x14ba053bc80>"
      ]
     },
     "metadata": {},
     "output_type": "display_data"
    }
   ],
   "source": [
    "# Read the dataset\n",
    "df = pd.read_csv(\"C:\\\\Users\\\\cloud\\\\OneDrive\\\\Desktop\\\\CP321\\\\CP321_A07\\\\fifa_world_cup_finals.csv\")\n",
    "\n",
    "# Initialize Dash app\n",
    "external_stylesheets = ['https://codepen.io/chriddyp/pen/bWLwgP.css']\n",
    "app = dash.Dash(__name__, external_stylesheets=external_stylesheets)\n",
    "app.title = \"FIFA World Cup Dashboard\"\n",
    "\n",
    "# Count wins per country\n",
    "win_counts = df['Winner'].value_counts().reset_index()\n",
    "win_counts.columns = ['Country', 'Wins']\n",
    "\n",
    "# Create the Choropleth figure\n",
    "fig = px.choropleth(\n",
    "    win_counts,\n",
    "    locations=\"Country\",\n",
    "    locationmode=\"country names\",\n",
    "    color=\"Wins\",\n",
    "    color_continuous_scale=\"pinkyl\",\n",
    "    title=\"<u>FIFA World Cup Wins by Country</u>\",\n",
    "    projection='natural earth'\n",
    ")\n",
    "\n",
    "# Make the title look better\n",
    "fig.update_layout(\n",
    "    title={\n",
    "        'x': 0.5,  # Center the title\n",
    "        'xanchor': 'center',\n",
    "        'yanchor': 'top'\n",
    "    },\n",
    "    title_font=dict(\n",
    "        size=22,\n",
    "        color='#333',\n",
    "        family='Arial'\n",
    "    )\n",
    ")\n",
    "\n",
    "# Get list of unique winning countries\n",
    "country_options = [{'label': country, 'value': country} for country in df['Winner'].unique()]\n",
    "\n",
    "# Get list of World Cup years\n",
    "year_options = [{'label': str(y), 'value': y} for y in sorted(df['Year'].unique())]\n",
    "\n",
    "# Dash layout\n",
    "app.layout = html.Div([\n",
    "    html.H1(\"FIFA World Cup Dashboard\", style={\n",
    "        'textAlign': 'center',\n",
    "        'color': '#111111',\n",
    "        'paddingTop': '20px'\n",
    "    }),\n",
    "\n",
    "    html.Div([\n",
    "        dcc.Graph(figure=fig),\n",
    "        \n",
    "        html.Div([\n",
    "            html.Label(\"Select a Country:\", style={'fontWeight': 'bold'}),\n",
    "            dcc.Dropdown(\n",
    "                id='country-dropdown',\n",
    "                options=country_options,\n",
    "                value='Brazil'\n",
    "            ),\n",
    "            html.Div(id='win-output', style={\n",
    "                'marginTop': '10px',\n",
    "                'fontSize': '18px',\n",
    "                'color': '#333333'\n",
    "            }),\n",
    "\n",
    "            html.Br(),\n",
    "\n",
    "            html.Label(\"Select a Year:\", style={'fontWeight': 'bold'}),\n",
    "            dcc.Dropdown(\n",
    "                id='year-dropdown',\n",
    "                options=year_options,\n",
    "                value=2022\n",
    "            ),\n",
    "            html.Div(id='match-output', style={\n",
    "                'marginTop': '10px',\n",
    "                'fontSize': '18px',\n",
    "                'color': '#333333'\n",
    "            })\n",
    "        ], style={\n",
    "            'width': '60%',\n",
    "            'margin': 'auto',\n",
    "            'padding': '20px',\n",
    "            'backgroundColor': '#f9f9f9',\n",
    "            'borderRadius': '10px',\n",
    "            'boxShadow': '0 4px 8px rgba(0, 0, 0, 0.1)'\n",
    "        })\n",
    "    ])\n",
    "])\n",
    "\n",
    "# Callback to update the text based on selected country\n",
    "@app.callback(\n",
    "    Output('win-output', 'children'),\n",
    "    Input('country-dropdown', 'value')\n",
    ")\n",
    "def update_win_text(selected_country):\n",
    "    win_count = df['Winner'].value_counts().get(selected_country, 0)\n",
    "    return f\"{selected_country} has won the World Cup {win_count} times.\"\n",
    "\n",
    "@app.callback(\n",
    "    Output('match-output', 'children'),\n",
    "    Input('year-dropdown', 'value')\n",
    ")\n",
    "def update_match_result(selected_year):\n",
    "    row = df[df['Year'] == selected_year]\n",
    "    if not row.empty:\n",
    "        winner = row.iloc[0]['Winner']\n",
    "        runner_up = row.iloc[0]['Runner_Up']\n",
    "        return f\"In {selected_year}, {winner} won the World Cup and {runner_up} was the runner-up.\"\n",
    "    else:\n",
    "        return \"No data for that year.\"\n",
    "\n",
    "# Run the app\n",
    "if __name__ == '__main__':\n",
    "    app.run(debug=True)"
   ]
  },
  {
   "cell_type": "code",
   "execution_count": 6,
   "metadata": {},
   "outputs": [
    {
     "name": "stdout",
     "output_type": "stream",
     "text": [
      "     Country  Wins\n",
      "0     Brazil     5\n",
      "1      Italy     4\n",
      "2    Germany     4\n",
      "3  Argentina     3\n",
      "4    Uruguay     2\n",
      "5     France     2\n",
      "6    England     1\n",
      "7      Spain     1\n"
     ]
    }
   ],
   "source": [
    "print(win_counts)"
   ]
  },
  {
   "cell_type": "code",
   "execution_count": null,
   "metadata": {},
   "outputs": [],
   "source": []
  }
 ],
 "metadata": {
  "kernelspec": {
   "display_name": "Python 3",
   "language": "python",
   "name": "python3"
  },
  "language_info": {
   "codemirror_mode": {
    "name": "ipython",
    "version": 3
   },
   "file_extension": ".py",
   "mimetype": "text/x-python",
   "name": "python",
   "nbconvert_exporter": "python",
   "pygments_lexer": "ipython3",
   "version": "3.12.1"
  }
 },
 "nbformat": 4,
 "nbformat_minor": 2
}
