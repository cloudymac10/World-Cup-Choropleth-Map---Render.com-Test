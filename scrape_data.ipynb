{
 "cells": [
  {
   "cell_type": "code",
   "execution_count": 3,
   "metadata": {},
   "outputs": [],
   "source": [
    "# Import packages\n",
    "import pandas as pd"
   ]
  },
  {
   "cell_type": "code",
   "execution_count": 4,
   "metadata": {},
   "outputs": [
    {
     "name": "stdout",
     "output_type": "stream",
     "text": [
      "\n",
      "Table 0 Columns:\n",
      "Index([0, 1], dtype='int64')\n",
      "\n",
      "Table 1 Columns:\n",
      "Index([0, 1], dtype='int64')\n",
      "\n",
      "Table 2 Columns:\n",
      "Index([0, 1], dtype='int64')\n",
      "\n",
      "Table 3 Columns:\n",
      "Index(['Year', 'Winners', 'Score', 'Runners-up', 'Venue', 'Location',\n",
      "       'Attendance', 'Ref.'],\n",
      "      dtype='object')\n",
      "\n",
      "Found table, index: 3\n"
     ]
    }
   ],
   "source": [
    "# Step 1: Load the tables from the Wikipedia page\n",
    "url = \"https://en.wikipedia.org/wiki/List_of_FIFA_World_Cup_finals\"\n",
    "tables = pd.read_html(url)\n",
    "\n",
    "# Step 2: Identify the correct table (usually the first or second)\n",
    "# Search through all tables to find the one with expected headers\n",
    "for i, table in enumerate(tables):\n",
    "    print(f\"\\nTable {i} Columns:\")\n",
    "    print(table.columns)\n",
    "\n",
    "    # Check if this table includes 'Winners'\n",
    "    col_names = [str(col).lower() for col in table.columns]\n",
    "    if any('winner' in col for col in col_names):\n",
    "        print(f\"\\nFound table, index: {i}\")\n",
    "        break"
   ]
  },
  {
   "cell_type": "code",
   "execution_count": 11,
   "metadata": {},
   "outputs": [
    {
     "name": "stdout",
     "output_type": "stream",
     "text": [
      "Dataset saved\n"
     ]
    }
   ],
   "source": [
    "\n",
    "# Select the correct table (table )\n",
    "df = tables[3]\n",
    "\n",
    "# Step 3: Select relevant columns and rename\n",
    "df = df[['Year', 'Winners', 'Runners-up']]\n",
    "df.columns = ['Year', 'Winner', 'Runner_Up']\n",
    "\n",
    "# Step 4: Clean up country names for consistency\n",
    "df.loc[:, 'Winner'] = df['Winner'].replace({'West Germany': 'Germany'})\n",
    "df.loc[:, 'Runner_Up'] = df['Runner_Up'].replace({'West Germany': 'Germany'})\n",
    "\n",
    "# Drop rows where Winner or Runner_Up is missing (handles 2026 row)\n",
    "df_clean = df.dropna(subset=['Winner', 'Runner_Up'])\n",
    "\n",
    "# Step 5: Save to CSV\n",
    "df_clean.to_csv(\"C:\\\\Users\\\\cloud\\\\OneDrive\\\\Desktop\\\\CP321\\\\CP321_A07\\\\fifa_world_cup_finals.csv\", index=False)\n",
    "\n",
    "\n",
    "print(\"Dataset saved\")"
   ]
  }
 ],
 "metadata": {
  "kernelspec": {
   "display_name": "Python 3",
   "language": "python",
   "name": "python3"
  },
  "language_info": {
   "codemirror_mode": {
    "name": "ipython",
    "version": 3
   },
   "file_extension": ".py",
   "mimetype": "text/x-python",
   "name": "python",
   "nbconvert_exporter": "python",
   "pygments_lexer": "ipython3",
   "version": "3.12.1"
  }
 },
 "nbformat": 4,
 "nbformat_minor": 2
}
